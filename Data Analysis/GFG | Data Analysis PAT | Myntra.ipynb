{
 "cells": [
  {
   "cell_type": "code",
   "execution_count": 1,
   "metadata": {
    "_cell_guid": "b1076dfc-b9ad-4769-8c92-a6c4dae69d19",
    "_uuid": "8f2839f25d086af736a60e9eeb907d3b93b6e0e5"
   },
   "outputs": [
    {
     "data": {
      "text/html": [
       "<div>\n",
       "<style scoped>\n",
       "    .dataframe tbody tr th:only-of-type {\n",
       "        vertical-align: middle;\n",
       "    }\n",
       "\n",
       "    .dataframe tbody tr th {\n",
       "        vertical-align: top;\n",
       "    }\n",
       "\n",
       "    .dataframe thead th {\n",
       "        text-align: right;\n",
       "    }\n",
       "</style>\n",
       "<table border=\"1\" class=\"dataframe\">\n",
       "  <thead>\n",
       "    <tr style=\"text-align: right;\">\n",
       "      <th></th>\n",
       "      <th>product_name</th>\n",
       "      <th>brand_name</th>\n",
       "      <th>rating</th>\n",
       "      <th>rating_count</th>\n",
       "      <th>marked_price</th>\n",
       "      <th>discounted_price</th>\n",
       "      <th>sizes</th>\n",
       "      <th>product_link</th>\n",
       "      <th>img_link</th>\n",
       "      <th>product_tag</th>\n",
       "      <th>brand_tag</th>\n",
       "      <th>discount_amount</th>\n",
       "      <th>discount_percent</th>\n",
       "    </tr>\n",
       "  </thead>\n",
       "  <tbody>\n",
       "    <tr>\n",
       "      <th>0</th>\n",
       "      <td>Croc Textured Two Fold Wallet</td>\n",
       "      <td>Lino Perros</td>\n",
       "      <td>0.0</td>\n",
       "      <td>0</td>\n",
       "      <td>1295</td>\n",
       "      <td>828</td>\n",
       "      <td>Onesize</td>\n",
       "      <td>wallets/lino-perros/lino-perros-women-peach-co...</td>\n",
       "      <td>https://assets.myntassets.com/dpr_2,q_60,w_210...</td>\n",
       "      <td>wallets</td>\n",
       "      <td>lino-perros</td>\n",
       "      <td>467</td>\n",
       "      <td>36</td>\n",
       "    </tr>\n",
       "    <tr>\n",
       "      <th>1</th>\n",
       "      <td>Men Striped Sliders</td>\n",
       "      <td>Mast &amp; Harbour</td>\n",
       "      <td>4.0</td>\n",
       "      <td>76</td>\n",
       "      <td>1299</td>\n",
       "      <td>584</td>\n",
       "      <td>UK6,UK7,UK8,UK9,UK10,UK11</td>\n",
       "      <td>flip-flops/mast--harbour/mast--harbour-men-nav...</td>\n",
       "      <td>https://assets.myntassets.com/dpr_2,q_60,w_210...</td>\n",
       "      <td>flip-flops</td>\n",
       "      <td>mast--harbour</td>\n",
       "      <td>715</td>\n",
       "      <td>55</td>\n",
       "    </tr>\n",
       "    <tr>\n",
       "      <th>2</th>\n",
       "      <td>Printed A-line Kurta</td>\n",
       "      <td>Biba</td>\n",
       "      <td>4.3</td>\n",
       "      <td>66</td>\n",
       "      <td>1999</td>\n",
       "      <td>1599</td>\n",
       "      <td>S,M,L,XL,XXL,3XL</td>\n",
       "      <td>kurtas/biba/biba-women-off-white--black-printe...</td>\n",
       "      <td>https://assets.myntassets.com/dpr_2,q_60,w_210...</td>\n",
       "      <td>kurtas</td>\n",
       "      <td>biba</td>\n",
       "      <td>400</td>\n",
       "      <td>20</td>\n",
       "    </tr>\n",
       "    <tr>\n",
       "      <th>3</th>\n",
       "      <td>Girls Floral Printed T-shirt</td>\n",
       "      <td>Anthrilo</td>\n",
       "      <td>0.0</td>\n",
       "      <td>0</td>\n",
       "      <td>599</td>\n",
       "      <td>539</td>\n",
       "      <td>7-8Y,8-9Y,9-10Y</td>\n",
       "      <td>tshirts/anthrilo/anthrilo-girls-white-floral-p...</td>\n",
       "      <td>https://assets.myntassets.com/dpr_2,q_60,w_210...</td>\n",
       "      <td>tshirts</td>\n",
       "      <td>anthrilo</td>\n",
       "      <td>60</td>\n",
       "      <td>10</td>\n",
       "    </tr>\n",
       "    <tr>\n",
       "      <th>4</th>\n",
       "      <td>Women Printed Kurta with Skirt</td>\n",
       "      <td>FASHION DWAR</td>\n",
       "      <td>0.0</td>\n",
       "      <td>0</td>\n",
       "      <td>2899</td>\n",
       "      <td>2899</td>\n",
       "      <td>S,M,L,XL</td>\n",
       "      <td>kurta-sets/fashion-dwar/fashion-dwar-women-mul...</td>\n",
       "      <td>https://assets.myntassets.com/dpr_2,q_60,w_210...</td>\n",
       "      <td>kurta-sets</td>\n",
       "      <td>fashion-dwar</td>\n",
       "      <td>0</td>\n",
       "      <td>0</td>\n",
       "    </tr>\n",
       "  </tbody>\n",
       "</table>\n",
       "</div>"
      ],
      "text/plain": [
       "                     product_name      brand_name  rating  rating_count  \\\n",
       "0   Croc Textured Two Fold Wallet     Lino Perros     0.0             0   \n",
       "1             Men Striped Sliders  Mast & Harbour     4.0            76   \n",
       "2            Printed A-line Kurta            Biba     4.3            66   \n",
       "3    Girls Floral Printed T-shirt        Anthrilo     0.0             0   \n",
       "4  Women Printed Kurta with Skirt    FASHION DWAR     0.0             0   \n",
       "\n",
       "   marked_price  discounted_price                      sizes  \\\n",
       "0          1295               828                    Onesize   \n",
       "1          1299               584  UK6,UK7,UK8,UK9,UK10,UK11   \n",
       "2          1999              1599           S,M,L,XL,XXL,3XL   \n",
       "3           599               539            7-8Y,8-9Y,9-10Y   \n",
       "4          2899              2899                   S,M,L,XL   \n",
       "\n",
       "                                        product_link  \\\n",
       "0  wallets/lino-perros/lino-perros-women-peach-co...   \n",
       "1  flip-flops/mast--harbour/mast--harbour-men-nav...   \n",
       "2  kurtas/biba/biba-women-off-white--black-printe...   \n",
       "3  tshirts/anthrilo/anthrilo-girls-white-floral-p...   \n",
       "4  kurta-sets/fashion-dwar/fashion-dwar-women-mul...   \n",
       "\n",
       "                                            img_link product_tag  \\\n",
       "0  https://assets.myntassets.com/dpr_2,q_60,w_210...     wallets   \n",
       "1  https://assets.myntassets.com/dpr_2,q_60,w_210...  flip-flops   \n",
       "2  https://assets.myntassets.com/dpr_2,q_60,w_210...      kurtas   \n",
       "3  https://assets.myntassets.com/dpr_2,q_60,w_210...     tshirts   \n",
       "4  https://assets.myntassets.com/dpr_2,q_60,w_210...  kurta-sets   \n",
       "\n",
       "       brand_tag  discount_amount  discount_percent  \n",
       "0    lino-perros              467                36  \n",
       "1  mast--harbour              715                55  \n",
       "2           biba              400                20  \n",
       "3       anthrilo               60                10  \n",
       "4   fashion-dwar                0                 0  "
      ]
     },
     "execution_count": 1,
     "metadata": {},
     "output_type": "execute_result"
    }
   ],
   "source": [
    "import numpy as np\n",
    "import pandas as pd\n",
    "import seaborn as sns\n",
    "import matplotlib.pyplot as plt\n",
    "\n",
    "df = pd.read_csv('data.csv')\n",
    "df.head()"
   ]
  },
  {
   "cell_type": "markdown",
   "metadata": {},
   "source": [
    "### 1. How many unique products are there in the dataset? (5 marks)\n",
    "You need to find product ID of each product from product_link and then find the number of unique product ids\n",
    "\n",
    "- Finding Unique Products as per their Product ID\n",
    "- Removing Products with Duplicate Product ID"
   ]
  },
  {
   "cell_type": "code",
   "execution_count": null,
   "metadata": {},
   "outputs": [],
   "source": []
  },
  {
   "cell_type": "markdown",
   "metadata": {},
   "source": [
    "### 2. What is the average rating of the products? (2 mark)\n",
    "- Try it without the product that are having rating 0\n",
    "- Try it without the product that are having 0 people given any rating"
   ]
  },
  {
   "cell_type": "code",
   "execution_count": null,
   "metadata": {},
   "outputs": [],
   "source": []
  },
  {
   "cell_type": "markdown",
   "metadata": {},
   "source": [
    "### 3. What is the average discount percentage of the products? (1 mark)"
   ]
  },
  {
   "cell_type": "code",
   "execution_count": null,
   "metadata": {},
   "outputs": [],
   "source": []
  },
  {
   "cell_type": "markdown",
   "metadata": {},
   "source": [
    "### 4. What are the top 5 most expensive products? (2 marks)\n",
    "- Make sure that there can be multiple brands with same name so you can take brand ID also into considration"
   ]
  },
  {
   "cell_type": "code",
   "execution_count": null,
   "metadata": {},
   "outputs": [],
   "source": []
  },
  {
   "cell_type": "markdown",
   "metadata": {},
   "source": [
    "### 5. What are the top 10 brands by the number of products in the dataset? (2 mark)"
   ]
  },
  {
   "cell_type": "code",
   "execution_count": null,
   "metadata": {},
   "outputs": [],
   "source": []
  },
  {
   "cell_type": "markdown",
   "metadata": {},
   "source": [
    "### 6. List top 5 brands with maxiumum average rating of products? (2 marks)\n",
    "Neglect the products which are not reviewed by any person"
   ]
  },
  {
   "cell_type": "code",
   "execution_count": null,
   "metadata": {},
   "outputs": [],
   "source": []
  },
  {
   "cell_type": "markdown",
   "metadata": {},
   "source": [
    "### 7. Plot a histogram of the distribution of ratings of following brand. (3 marks)\n",
    "- H&M\n",
    "- max\n",
    "- Puma\n",
    "- MANGO\n",
    "\n",
    "Neglect the products which are not reviewed by any person"
   ]
  },
  {
   "cell_type": "code",
   "execution_count": null,
   "metadata": {},
   "outputs": [],
   "source": []
  },
  {
   "cell_type": "markdown",
   "metadata": {},
   "source": [
    "### 8. What is the distribution of discounts by brand for specific brands mentioned below? (2 marks)\n",
    "\n",
    "- H&M\n",
    "- max\n",
    "- Puma\n",
    "- MANGO\n",
    "\n",
    "Neglect the products which are not reviewed by any person.\n",
    "Neglect the products which are not on any discount."
   ]
  },
  {
   "cell_type": "code",
   "execution_count": null,
   "metadata": {
    "execution": {
     "iopub.execute_input": "2023-04-05T10:26:48.099811Z",
     "iopub.status.busy": "2023-04-05T10:26:48.099398Z",
     "iopub.status.idle": "2023-04-05T10:26:48.326916Z",
     "shell.execute_reply": "2023-04-05T10:26:48.325510Z",
     "shell.execute_reply.started": "2023-04-05T10:26:48.099776Z"
    }
   },
   "outputs": [],
   "source": []
  },
  {
   "cell_type": "markdown",
   "metadata": {},
   "source": [
    "### 9. Is there any trend or pattern you can find between discount percent and rating of the product? (3 marks)"
   ]
  },
  {
   "cell_type": "code",
   "execution_count": null,
   "metadata": {},
   "outputs": [],
   "source": []
  },
  {
   "cell_type": "markdown",
   "metadata": {},
   "source": [
    "### 10. What are the top 10 most popular tags in the dataset? (2 marks)"
   ]
  },
  {
   "cell_type": "code",
   "execution_count": null,
   "metadata": {},
   "outputs": [],
   "source": []
  },
  {
   "cell_type": "markdown",
   "metadata": {},
   "source": [
    "### 11. Are there any relations between the rating and number of people who rated the products? (4 marks)\n",
    "- Neglect the products that are not reviewed by any person\n",
    "- Neglect the products that are having zero rating"
   ]
  },
  {
   "cell_type": "code",
   "execution_count": null,
   "metadata": {},
   "outputs": [],
   "source": []
  },
  {
   "cell_type": "markdown",
   "metadata": {},
   "source": [
    "### 12. What are the top 10 Most Expensive brands? (3 marks)\n",
    "- Use marked price as the reference to find the most expensive brand"
   ]
  },
  {
   "cell_type": "code",
   "execution_count": null,
   "metadata": {},
   "outputs": [],
   "source": []
  },
  {
   "cell_type": "markdown",
   "metadata": {},
   "source": [
    "### 13. What are the top 10 Most Expensive Product Category? (4 marks)\n",
    "- Use marked price as the reference to find the most expensive brand"
   ]
  },
  {
   "cell_type": "code",
   "execution_count": null,
   "metadata": {},
   "outputs": [],
   "source": []
  },
  {
   "cell_type": "markdown",
   "metadata": {},
   "source": [
    "### 14. Analyse the Violen Plot of watches of following brands mentioned below ? (5 marks)\n",
    "\n",
    " - Take Marked Price for Reference\n",
    " - Take product_tag as watches\n",
    " - Take brand_tag as tommy-hilfiger, daniel-wellington, armani-exchange, emporio-armani, earnshaw, tissot\n",
    " - Make sure to write your inference based on the violen plot of following watch brands price"
   ]
  },
  {
   "cell_type": "code",
   "execution_count": null,
   "metadata": {},
   "outputs": [],
   "source": []
  },
  {
   "cell_type": "markdown",
   "metadata": {},
   "source": [
    "### 15. List top 5 brands which are having most wide range or products\n",
    "- Use marked price as the reference"
   ]
  },
  {
   "cell_type": "code",
   "execution_count": null,
   "metadata": {},
   "outputs": [],
   "source": []
  }
 ],
 "metadata": {
  "kernelspec": {
   "display_name": "Python 3 (ipykernel)",
   "language": "python",
   "name": "python3"
  },
  "language_info": {
   "codemirror_mode": {
    "name": "ipython",
    "version": 3
   },
   "file_extension": ".py",
   "mimetype": "text/x-python",
   "name": "python",
   "nbconvert_exporter": "python",
   "pygments_lexer": "ipython3",
   "version": "3.9.16"
  }
 },
 "nbformat": 4,
 "nbformat_minor": 4
}
